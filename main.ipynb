{
 "cells": [
  {
   "cell_type": "code",
   "execution_count": null,
   "metadata": {
    "vscode": {
     "languageId": "plaintext"
    }
   },
   "outputs": [],
   "source": [
    "import datetime\n",
    "\n",
    "# ------------------------------------------------ #\n",
    "#                  MAIN CODE                       # \n",
    "# ------------------------------------------------ #\n",
    "\n",
    "# Parameters\n",
    "years_of_data = [2000,2001,2002,2003,2004,2005,2006,2007,2008,2009,2010,2011,2012,2013,2014,2015,2016,2017,2018,2019,2020,2021,2022]\n",
    "\n",
    "# ------------------------------------------------ #\n",
    "\n",
    "# Pull in ENSO data as dictionary of Datetime:Values on a MONTHLY scale from all years of data\n",
    "# Format of this dictionary should go from march of year-1 to march of year (e.g. year 2000 is dictionary M1999-M2000) for each year\n",
    "enso_indices = ReturnENSOFetch(years_of_data)\n",
    "\n",
    "# Pull in AO data as dictionary of Datetime:Values on a MONTHLY scale from all years of data\n",
    "# Format of this dictionary should go from march of year-1 to march of year (e.g. year 2000 is dictionary M1999-M2000) for each year\n",
    "ao_indices = ReturnAOFetch(years_of_data)\n",
    "\n",
    "# Pull in Sarah's data as a dictionary of Datetime:Numpy arrays on a MONTLY scale (Just March 15th) \n",
    "ice_cover = ReturnIceFetch(years_of_data)\n",
    "\n",
    "# Find ice index, returned as a dictionary of Datetime:Index\n",
    "ice_indices = CalculateIceIndex(years_of_data, ice_cover)\n",
    "\n",
    "# Calculate correlations:\n",
    "    # For each of the ~200 months in the dictionary of our oscillation indices,\n",
    "        # Calculate the correlation with the ice index for that year\n",
    "        # Return a structure of all of those indices to be plotted\n",
    "ao_correlation_values = CalculateAOCorrelation(ao_indices, ice_indices)\n",
    "enso_correlation_values = CalculateENSOCorrelation(enso_indices, ice_indices)\n",
    "\n",
    "# Chart Values - Each year is a line with Months A-F on X axis, correlation values on Y axis\n",
    "ChartENSOValues(enso_correlation_values)\n",
    "ChartAOValues(ao_correlation_values)\n"
   ]
  },
  {
   "cell_type": "code",
   "execution_count": null,
   "metadata": {
    "vscode": {
     "languageId": "plaintext"
    }
   },
   "outputs": [],
   "source": []
  }
 ],
 "metadata": {
  "language_info": {
   "name": "python"
  }
 },
 "nbformat": 4,
 "nbformat_minor": 2
}
