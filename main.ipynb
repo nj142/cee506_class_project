import datetime

# ------------------------------------------------ #
#                  MAIN CODE                       # 
# ------------------------------------------------ #

# Parameters
years_of_data = [2000,2001,2002,2003,2004,2005,2006,2007,2008,2009,2010,2011,2012,2013,2014,2015,2016,2017,2018,2019,2020,2021,2022]

# ------------------------------------------------ #

# Pull in ENSO data as dictionary of Datetime:Values on a MONTHLY scale from all years of data
# Format of this dictionary should go from march of year-1 to march of year (e.g. year 2000 is dictionary M1999-M2000) for each year
enso_indices = ReturnENSOFetch(years_of_data)

# Pull in AO data as dictionary of Datetime:Values on a MONTHLY scale from all years of data
# Format of this dictionary should go from march of year-1 to march of year (e.g. year 2000 is dictionary M1999-M2000) for each year
ao_indices = ReturnAOFetch(years_of_data)

# Pull in Sarah's data as a dictionary of Datetime:Numpy arrays on a MONTLY scale (Just March 15th) 
ice_cover = ReturnIceFetch(years_of_data)

# Find ice index, returned as a dictionary of Datetime:Index
ice_indices = CalculateIceIndex(years_of_data, ice_cover)

# Calculate correlations:
    # For each of the ~200 months in the dictionary of our oscillation indices,
        # Calculate the correlation with the ice index for that year
        # Return a structure of all of those indices to be plotted
ao_correlation_values = CalculateAOCorrelation(ao_indices, ice_indices)
enso_correlation_values = CalculateENSOCorrelation(enso_indices, ice_indices)

# Chart Values - Each year is a line with Months A-F on X axis, correlation values on Y axis
ChartENSOValues(enso_correlation_values)
ChartAOValues(ao_correlation_values)

