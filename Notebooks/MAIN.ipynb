{
 "cells": [
  {
   "cell_type": "code",
   "execution_count": 16,
   "metadata": {},
   "outputs": [],
   "source": [
    "# ------------------------------------------------ #\n",
    "#                  IMPORT FUNCTIONS                #\n",
    "# ------------------------------------------------ #\n",
    "\n",
    "import os\n",
    "import sys\n",
    "import datetime\n",
    "\n",
    "# Get the project root directory (going up one level from Notebooks)\n",
    "project_root = os.path.dirname(os.getcwd())\n",
    "\n",
    "# Add the Scripts directory to Python path so we can import modules\n",
    "scripts_dir = os.path.join(project_root, 'Scripts')\n",
    "if scripts_dir not in sys.path:\n",
    "    sys.path.append(scripts_dir)"
   ]
  },
  {
   "cell_type": "code",
   "execution_count": 17,
   "metadata": {},
   "outputs": [],
   "source": [
    "# ------------------------------------------------ #\n",
    "#                  PARAMETERS                      #\n",
    "# ------------------------------------------------ #\n",
    "    \n",
    "# Add functions here from Scripts folder\n",
    "from download_ao_indices import ReturnAOFetch\n",
    "from enso_indices import ReturnENSOFetch\n",
    "from sea_ice_indices import CalculateIceIndex\n",
    "\n",
    "# Add data here from Data folder\n",
    "enso_data_filepath = os.path.join(project_root, \"Data\", \"ENSO_index.rtf\")\n",
    "ao_data_filepath = os.path.join(project_root, \"Data\", \"monthly.ao.index.txt\")\n",
    "ice_data_filepath = os.path.join(project_root, \"Data\", \"ice_data.csv\")\n",
    "study_sites = [\"Stebbins\", \"Hooper Bay\"]\n",
    "\n",
    "# Generate a list of years from 2000 to 2022 - select years\n",
    "years_of_data = list(range(2000, 2023))"
   ]
  },
  {
   "cell_type": "code",

   "execution_count": 3,
   "metadata": {},
   "outputs": [
    {
     "name": "stdout",
     "output_type": "stream",
     "text": [
      "{'Stebbins': {datetime.datetime(2000, 3, 15, 0, 0): -2.4020745070233502, datetime.datetime(2001, 3, 15, 0, 0): -8.14579473408959, datetime.datetime(2002, 3, 15, 0, 0): 0.2858140178322497, datetime.datetime(2003, 3, 15, 0, 0): -0.9529364517519509, datetime.datetime(2004, 3, 15, 0, 0): 4.79243057151465, datetime.datetime(2005, 3, 15, 0, 0): -2.6600469311314505, datetime.datetime(2006, 3, 15, 0, 0): -5.6114529872378505, datetime.datetime(2007, 3, 15, 0, 0): 10.294454393720551, datetime.datetime(2008, 3, 15, 0, 0): 1.4054649562266484, datetime.datetime(2009, 3, 15, 0, 0): -2.560125306923449, datetime.datetime(2010, 3, 15, 0, 0): 14.691439207175053, datetime.datetime(2011, 3, 15, 0, 0): -4.02568970313135, datetime.datetime(2012, 3, 15, 0, 0): 14.042471032742947, datetime.datetime(2013, 3, 15, 0, 0): -2.3559211315595494, datetime.datetime(2014, 3, 15, 0, 0): -1.2944691983123509, datetime.datetime(2015, 3, 15, 0, 0): -2.5635988427898493, datetime.datetime(2016, 3, 15, 0, 0): -0.057372791716350235, datetime.datetime(2017, 3, 15, 0, 0): 7.419294894798348, datetime.datetime(2018, 3, 15, 0, 0): -6.154468677701922, datetime.datetime(2019, 3, 15, 0, 0): -12.21053919012659, datetime.datetime(2020, 3, 15, 0, 0): 2.694195580660651, datetime.datetime(2021, 3, 15, 0, 0): -3.458207792389252, datetime.datetime(2022, 3, 15, 0, 0): -1.17286640878625}, 'Hooper Bay': {datetime.datetime(2000, 3, 15, 0, 0): 4.259097823342619, datetime.datetime(2001, 3, 15, 0, 0): -4.989954836107462, datetime.datetime(2002, 3, 15, 0, 0): 1.5448720482414178, datetime.datetime(2003, 3, 15, 0, 0): -3.067501194030913, datetime.datetime(2004, 3, 15, 0, 0): -2.0354069330395124, datetime.datetime(2005, 3, 15, 0, 0): -2.053412744689113, datetime.datetime(2006, 3, 15, 0, 0): 2.7949671496563173, datetime.datetime(2007, 3, 15, 0, 0): 0.5525217973944176, datetime.datetime(2008, 3, 15, 0, 0): 3.006237370854617, datetime.datetime(2009, 3, 15, 0, 0): 6.6222535991283165, datetime.datetime(2010, 3, 15, 0, 0): 7.065007450188718, datetime.datetime(2011, 3, 15, 0, 0): 0.4424941114077168, datetime.datetime(2012, 3, 15, 0, 0): 2.196865690954917, datetime.datetime(2013, 3, 15, 0, 0): 0.8964954817261166, datetime.datetime(2014, 3, 15, 0, 0): -3.0396041365015023, datetime.datetime(2015, 3, 15, 0, 0): -2.1018065113018123, datetime.datetime(2016, 3, 15, 0, 0): -4.9982420016884825, datetime.datetime(2017, 3, 15, 0, 0): 1.4647869197588168, datetime.datetime(2018, 3, 15, 0, 0): -3.079725256274913, datetime.datetime(2019, 3, 15, 0, 0): -7.418179049065803, datetime.datetime(2020, 3, 15, 0, 0): 1.8814118680507173, datetime.datetime(2021, 3, 15, 0, 0): -0.0997886470199134, datetime.datetime(2022, 3, 15, 0, 0): 0.15660999901471762}}\n"

     ]
    }
   ],
   "source": [
    "# ------------------------------------------------ #\n",
    "#                  MAIN CODE                      #\n",
    "# ------------------------------------------------ #\n",
    "\n",
    "# Pull in ENSO data as dictionary of Datetime:Values on a MONTHLY scale from all years of data\n",
    "# Format of this dictionary should go from March of year-1 to March of year (e.g. year 2000 is dictionary M1999-M2000) for each year\n",
    "enso_indices = ReturnENSOFetch(years_of_data, enso_data_filepath)\n",
    "\n",
    "# Pull in AO data as dictionary of Datetime:Values on a MONTHLY scale from all years of data\n",
    "# Format of this dictionary should go from March of year-1 to March of year (e.g. year 2000 is dictionary M1999-M2000) for each year\n",
    "ao_indices = ReturnAOFetch(years_of_data, ao_data_filepath)\n",
    "\n",
    "# Find ice index, returned as a dictionary of Datetime:Index\n",
    "ice_indices = CalculateIceIndex(years_of_data, ice_data_filepath, study_sites)\n",
    "\n",
    "print(ice_indices)\n"
   ]
  },
  {
   "cell_type": "code",
   "execution_count": 10,
   "metadata": {},
   "outputs": [],
   "source": [
    "# ------------------------------------------------ #\n",
    "#       CORRELATION AND PLOTTING (Placeholders)    #\n",
    "# ------------------------------------------------ #\n",
    "\n",
    "# Placeholder for correlation calculations (actual functions need to be defined)\n",
    "# ao_correlation_values = CalculateAOCorrelation(ao_indices, ice_indices)\n",
    "# enso_correlation_values = CalculateENSOCorrelation(enso_indices, ice_indices)\n",
    "\n",
    "# Placeholder for charting (actual functions need to be defined)\n",
    "# ChartENSOValues(enso_correlation_values)\n",
    "# ChartAOValues(ao_correlation_values)\n"
   ]
  },
  {
   "cell_type": "code",
   "execution_count": null,
   "metadata": {},
   "outputs": [],
   "source": []
  }
 ],
 "metadata": {
  "kernelspec": {
   "display_name": "Python 3",
   "language": "python",
   "name": "python3"
  },
  "language_info": {
   "codemirror_mode": {
    "name": "ipython",
    "version": 3
   },
   "file_extension": ".py",
   "mimetype": "text/x-python",
   "name": "python",
   "nbconvert_exporter": "python",
   "pygments_lexer": "ipython3",
   "version": "3.7.3"
  }
 },
 "nbformat": 4,
 "nbformat_minor": 2
}
