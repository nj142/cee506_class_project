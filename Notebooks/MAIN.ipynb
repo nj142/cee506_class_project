{
 "cells": [
  {
   "cell_type": "code",
   "execution_count": 7,
   "metadata": {},
   "outputs": [],
   "source": [
    "# ------------------------------------------------ #\n",
    "#                  IMPORT FUNCTIONS                #\n",
    "# ------------------------------------------------ #\n",
    "\n",
    "import os\n",
    "import sys\n",
    "import datetime\n",
    "\n",
    "# Get the project root directory (going up one level from Notebooks)\n",
    "project_root = os.path.dirname(os.getcwd())\n",
    "\n",
    "# Add the Scripts directory to Python path so we can import modules\n",
    "scripts_dir = os.path.join(project_root, 'Scripts')\n",
    "if scripts_dir not in sys.path:\n",
    "    sys.path.append(scripts_dir)"
   ]
  },
  {
   "cell_type": "code",
   "execution_count": 8,
   "metadata": {},
   "outputs": [],
   "source": [
    "# ------------------------------------------------ #\n",
    "#                  PARAMETERS                      #\n",
    "# ------------------------------------------------ #\n",
    "    \n",
    "# Add functions here from Scripts folder\n",
    "from download_ao_indices import ReturnAOFetch\n",
    "from enso_indices import ReturnENSOFetch\n",
    "from sea_ice_indices import CalculateIceIndex\n",
    "\n",
    "# Add data here from Data folder\n",
    "enso_data_filepath = os.path.join(project_root, \"Data\", \"ENSO_index.rtf\")\n",
    "ao_data_filepath = os.path.join(project_root, \"Data\", \"monthly.ao.index.txt\")\n",
    "ice_data_filepath = os.path.join(project_root, \"Data\", \"ice_data.csv\")\n",
    "study_sites = [\"Stebbins\", \"Hooper Bay\"]\n",
    "\n",
    "# Generate a list of years from 2000 to 2022 - select years\n",
    "years_of_data = list(range(2000, 2023))"
   ]
  },
  {
   "cell_type": "code",
   "execution_count": 9,
   "metadata": {},
   "outputs": [
    {
     "ename": "TypeError",
     "evalue": "ReturnENSOFetch() takes 1 positional argument but 2 were given",
     "output_type": "error",
     "traceback": [
      "\u001b[0;31m\u001b[0m",
      "\u001b[0;31mTypeError\u001b[0mTraceback (most recent call last)",
      "\u001b[0;32m<ipython-input-9-7ce66a1dcf89>\u001b[0m in \u001b[0;36m<module>\u001b[0;34m\u001b[0m\n\u001b[1;32m      5\u001b[0m \u001b[0;31m# Pull in ENSO data as dictionary of Datetime:Values on a MONTHLY scale from all years of data\u001b[0m\u001b[0;34m\u001b[0m\u001b[0;34m\u001b[0m\u001b[0;34m\u001b[0m\u001b[0m\n\u001b[1;32m      6\u001b[0m \u001b[0;31m# Format of this dictionary should go from March of year-1 to March of year (e.g. year 2000 is dictionary M1999-M2000) for each year\u001b[0m\u001b[0;34m\u001b[0m\u001b[0;34m\u001b[0m\u001b[0;34m\u001b[0m\u001b[0m\n\u001b[0;32m----> 7\u001b[0;31m \u001b[0menso_indices\u001b[0m \u001b[0;34m=\u001b[0m \u001b[0mReturnENSOFetch\u001b[0m\u001b[0;34m(\u001b[0m\u001b[0myears_of_data\u001b[0m\u001b[0;34m,\u001b[0m \u001b[0menso_data_filepath\u001b[0m\u001b[0;34m)\u001b[0m\u001b[0;34m\u001b[0m\u001b[0;34m\u001b[0m\u001b[0m\n\u001b[0m\u001b[1;32m      8\u001b[0m \u001b[0;34m\u001b[0m\u001b[0m\n\u001b[1;32m      9\u001b[0m \u001b[0mprint\u001b[0m\u001b[0;34m(\u001b[0m\u001b[0menso_indices\u001b[0m\u001b[0;34m)\u001b[0m\u001b[0;34m\u001b[0m\u001b[0;34m\u001b[0m\u001b[0m\n",
      "\u001b[0;31mTypeError\u001b[0m: ReturnENSOFetch() takes 1 positional argument but 2 were given"
     ]
    }
   ],
   "source": [
    "# ------------------------------------------------ #\n",
    "#                  MAIN CODE                      #\n",
    "# ------------------------------------------------ #\n",
    "\n",
    "# Pull in ENSO data as dictionary of Datetime:Values on a MONTHLY scale from all years of data\n",
    "# Format of this dictionary should go from March of year-1 to March of year (e.g. year 2000 is dictionary M1999-M2000) for each year\n",
    "enso_indices = ReturnENSOFetch(years_of_data, enso_data_filepath)\n",
    "\n",
    "print(enso_indices)\n",
    "\n",
    "# Pull in AO data as dictionary of Datetime:Values on a MONTHLY scale from all years of data\n",
    "# Format of this dictionary should go from March of year-1 to March of year (e.g. year 2000 is dictionary M1999-M2000) for each year\n",
    "ao_indices = ReturnAOFetch(years_of_data, ao_data_filepath)\n",
    "\n",
    "print(ao_indices)\n",
    "\n",
    "# Find ice index, returned as a dictionary of Datetime:Index\n",
    "ice_indices = CalculateIceIndex(years_of_data, ice_data_filepath, study_sites)\n",
    "\n",
    "print(ice_indices)\n"
   ]
  },
  {
   "cell_type": "code",
   "execution_count": 10,
   "metadata": {},
   "outputs": [],
   "source": [
    "# ------------------------------------------------ #\n",
    "#       CORRELATION AND PLOTTING (Placeholders)    #\n",
    "# ------------------------------------------------ #\n",
    "\n",
    "# Placeholder for correlation calculations (actual functions need to be defined)\n",
    "# ao_correlation_values = CalculateAOCorrelation(ao_indices, ice_indices)\n",
    "# enso_correlation_values = CalculateENSOCorrelation(enso_indices, ice_indices)\n",
    "\n",
    "# Placeholder for charting (actual functions need to be defined)\n",
    "# ChartENSOValues(enso_correlation_values)\n",
    "# ChartAOValues(ao_correlation_values)\n"
   ]
  },
  {
   "cell_type": "code",
   "execution_count": null,
   "metadata": {},
   "outputs": [],
   "source": []
  }
 ],
 "metadata": {
  "kernelspec": {
   "display_name": "Python 3",
   "language": "python",
   "name": "python3"
  },
  "language_info": {
   "codemirror_mode": {
    "name": "ipython",
    "version": 3
   },
   "file_extension": ".py",
   "mimetype": "text/x-python",
   "name": "python",
   "nbconvert_exporter": "python",
   "pygments_lexer": "ipython3",
   "version": "3.7.3"
  }
 },
 "nbformat": 4,
 "nbformat_minor": 2
}
