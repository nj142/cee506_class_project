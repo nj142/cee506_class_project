{
 "cells": [
  {
   "cell_type": "code",
   "execution_count": 38,
   "metadata": {},
   "outputs": [],
   "source": [
    "# ------------------------------------------------ #\n",
    "#                  IMPORT FUNCTIONS                #\n",
    "# ------------------------------------------------ #\n",
    "\n",
    "import os\n",
    "import sys\n",
    "import datetime\n",
    "\n",
    "# Get the project root directory (going up one level from Notebooks)\n",
    "project_root = os.path.dirname(os.getcwd())\n",
    "\n",
    "# Add the Scripts directory to Python path so we can import modules\n",
    "scripts_dir = os.path.join(project_root, 'Scripts')\n",
    "if scripts_dir not in sys.path:\n",
    "    sys.path.append(scripts_dir)"
   ]
  },
  {
   "cell_type": "code",
   "execution_count": 39,
   "metadata": {},
   "outputs": [],
   "source": [
    "# ------------------------------------------------ #\n",
    "#                  PARAMETERS                      #\n",
    "# ------------------------------------------------ #\n",
    "    \n",
    "# Add functions here from Scripts folder\n",
    "from download_ao_indices import ReturnAOFetch\n",
    "from enso_indices import ReturnENSOFetch\n",
    "from sea_ice_indices import CalculateIceIndex\n",
    "\n",
    "# Add data here from Data folder\n",
    "enso_data_filepath = os.path.join(project_root, \"Data\", \"ENSO_index.rtf\")\n",
    "ao_data_filepath = os.path.join(project_root, \"Data\", \"monthly.ao.index.txt\")\n",
    "ice_data_filepath = os.path.join(project_root, \"Data\", \"ice_data.csv\")\n",
    "\n",
    "# Generate a list of years from 2000 to 2022 - select years\n",
    "years_of_data = list(range(2000, 2023))"
   ]
  },
  {
   "cell_type": "code",
   "execution_count": 40,
   "metadata": {},
   "outputs": [
    {
     "name": "stdout",
     "output_type": "stream",
     "text": [
      "[[-1.1, -0.7, 1.2, 0.8, 0.4, 1.4, 0.5, -0.3, -0.7, -0.7, 0.5, 0.2, -0.0], [-0.0, -0.8, 0.8, 1.2, 0.3, -0.4, 0.1, -1.5, -2.2, -2.4, 1.0, -2.9, 0.5], [0.5, 0.0, 1.3, -0.1, 0.6, 0.7, -0.1, -0.7, -0.3, 0.4, 1.0, 0.2, 1.7], [1.7, 0.6, 1.2, 0.8, 1.8, 1.1, 1.1, -0.1, 1.1, 1.8, 0.7, 0.2, 1.1], [1.1, 1.1, 0.6, 0.7, 0.6, 0.4, 0.2, -0.3, 0.6, -1.1, 1.4, -0.2, -0.6], [-0.6, 1.2, -0.3, 2.2, 1.1, 0.9, 1.2, 0.5, 0.5, 0.0, 0.1, 2.6, 1.1], [1.1, 1.7, 1.4, -0.2, 0.4, 0.9, 0.0, -0.7, -0.4, 0.4, -1.5, 1.0, -1.2], [-1.2, -1.7, 1.2, 1.2, 1.6, 2.0, 1.4, 2.3, 1.1, 1.4, 0.5, 0.7, 0.3], [0.3, 1.2, 0.9, -0.8, 1.4, 0.8, -0.4, -0.6, -1.1, -1.3, -1.3, -1.7, 1.0], [1.0, 0.5, 1.3, 0.8, 0.6, 0.9, -0.2, 0.4, -0.6, -0.8, -0.2, -1.2, 1.1], [1.1, -0.1, -0.3, 0.4, 0.3, 0.3, -0.6, 0.8, 0.2, 0.6, -0.3, 1.4, 1.5], [1.5, 0.2, -0.7, 0.9, -0.4, -0.4, -1.1, -1.3, -0.2, -2.4, -1.1, -1.4, -1.1], [-1.1, -0.5, 1.1, 1.2, 0.4, 1.0, 0.7, -0.3, -0.1, -2.3, -0.2, 0.8, -1.1], [-1.1, 1.3, 0.4, 1.0, -0.0, 1.4, 0.3, 0.2, 0.6, 0.4, -0.4, 0.8, -0.2], [-0.2, 0.3, -0.1, -1.1, -0.3, 0.5, -0.3, 0.1, -1.0, 0.4, -1.2, -0.4, 1.7], [1.7, -0.5, 0.8, 0.2, 1.1, 1.9, 1.2, 1.0, 1.2, 0.2, 0.3, 1.4, 1.5], [1.5, 1.1, 2.2, 1.0, 2.2, 2.2, 2.0, 3.2, 0.8, -0.3, 4.0, 2.2, 1.8], [1.8, 1.4, 0.0, -0.1, 0.3, -0.2, -0.9, -0.2, 0.1, -0.6, -0.2, 0.7, -0.0], [-0.0, 0.3, 0.8, 1.2, 0.4, 0.4, 0.4, -1.2, -1.3, 0.0, -1.4, 0.6, -1.3], [-1.3, 0.1, 1.3, 1.4, -0.0, 0.5, 0.4, 0.4, 0.7, -1.1, 0.6, 2.6, 1.0], [1.0, 0.7, 1.4, 1.5, 1.4, 1.7, 2.6, 0.8, 1.0, 1.1, 1.0, 1.0, 1.7], [1.7, 1.1, 1.5, 0.6, -0.1, -0.1, -0.3, -0.6, 0.3, -0.8, -0.6, -1.4, 0.7], [0.7, 0.3, 0.4, 0.8, -0.5, 0.7, 0.1, -0.9, -0.4, -0.8, 0.3, 0.5, 0.1]]\n"
     ]
    }
   ],
   "source": [
    "# ------------------------------------------------ #\n",
    "#                  MAIN CODE                      #\n",
    "# ------------------------------------------------ #\n",
    "\n",
    "# Pull in ENSO data as dictionary of Datetime:Values on a MONTHLY scale from all years of data\n",
    "# Format of this dictionary should go from March of year-1 to March of year (e.g. year 2000 is dictionary M1999-M2000) for each year\n",
    "enso_indices = ReturnENSOFetch(years_of_data, enso_data_filepath)\n",
    "\n",
    "# Pull in AO data as dictionary of Datetime:Values on a MONTHLY scale from all years of data\n",
    "# Format of this dictionary should go from March of year-1 to March of year (e.g. year 2000 is dictionary M1999-M2000) for each year\n",
    "ao_indices = ReturnAOFetch(years_of_data, ao_data_filepath)\n",
    "\n",
    "# Find ice index, returned as a dictionary of Datetime:Index\n",
    "ice_indices = CalculateIceIndex(years_of_data, ice_data_filepath)\n",
    "\n",
    "print(enso_indices)\n"
   ]
  },
  {
   "cell_type": "code",
   "execution_count": null,
   "metadata": {},
   "outputs": [],
   "source": [
    "# ------------------------------------------------ #\n",
    "#       CORRELATION AND PLOTTING (Placeholders)    #\n",
    "# ------------------------------------------------ #\n",
    "\n",
    "# Placeholder for correlation calculations (actual functions need to be defined)\n",
    "# ao_correlation_values = CalculateAOCorrelation(ao_indices, ice_indices)\n",
    "# enso_correlation_values = CalculateENSOCorrelation(enso_indices, ice_indices)\n",
    "\n",
    "# Placeholder for charting (actual functions need to be defined)\n",
    "# ChartENSOValues(enso_correlation_values)\n",
    "# ChartAOValues(ao_correlation_values)\n"
   ]
  }
 ],
 "metadata": {
  "kernelspec": {
   "display_name": "Python 3",
   "language": "python",
   "name": "python3"
  },
  "language_info": {
   "codemirror_mode": {
    "name": "ipython",
    "version": 3
   },
   "file_extension": ".py",
   "mimetype": "text/x-python",
   "name": "python",
   "nbconvert_exporter": "python",
   "pygments_lexer": "ipython3",
   "version": "3.7.3"
  }
 },
 "nbformat": 4,
 "nbformat_minor": 2
}
