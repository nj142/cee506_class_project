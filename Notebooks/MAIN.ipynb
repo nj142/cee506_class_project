{
 "cells": [
  {
   "cell_type": "code",
   "execution_count": null,
   "metadata": {
    "vscode": {
     "languageId": "plaintext"
    }
   },
   "outputs": [],
   "source": [
    "import datetime\n",
    "\n",
    "import sys\n",
    "import os\n",
    "# Add the parent directory to PYTHONPATH\n",
    "sys.path.append(os.path.abspath(os.path.join(os.path.dirname(__file__), '..')))\n",
    "\n",
    "from cee506_class_project.Scripts.download_ao_indices import ReturnAOFetch\n",
    "from cee506_class_project.Scripts.enso_indices import ReturnENSOFetch\n",
    "from cee506_class_project.Scripts.sea_ice_indices import CalculateIceIndex\n",
    "\n",
    "# ------------------------------------------------ #\n",
    "#                  MAIN CODE                       # \n",
    "# ------------------------------------------------ #\n",
    "\n",
    "# Parameters (This will make a list of 2000-2022, as python excludes the 2nd value)\n",
    "years_of_data = list(range(2000, 2023))\n",
    "\n",
    "# ------------------------------------------------ #\n",
    "\n",
    "# Pull in ENSO data as dictionary of Datetime:Values on a MONTHLY scale from all years of data\n",
    "# Format of this dictionary should go from march of year-1 to march of year (e.g. year 2000 is dictionary M1999-M2000) for each year\n",
    "enso_data_filepath = \"cee506_class_project/Data/ENSO_index.rtf\"\n",
    "enso_indices = ReturnENSOFetch(years_of_data, enso_data_filepath)\n",
    "\n",
    "# Pull in AO data as dictionary of Datetime:Values on a MONTHLY scale from all years of data\n",
    "# Format of this dictionary should go from march of year-1 to march of year (e.g. year 2000 is dictionary M1999-M2000) for each year\n",
    "ao_data_filepath = \"cee506_class_project/Data/monthly.ao.index.txt\"\n",
    "ao_indices = ReturnAOFetch(years_of_data, ao_data_filepath)\n",
    "\n",
    "# Find ice index, returned as a dictionary of Datetime:Index\n",
    "ice_data_filepath = \"cee506_class_project/Data/ice_data.csv\"\n",
    "ice_indices = CalculateIceIndex(years_of_data, ice_data_filepath)\n",
    "\n",
    "# Calculate correlations:\n",
    "    # For each of the ~200 months in the dictionary of our oscillation indices,\n",
    "        # Calculate the correlation with the ice index for that year\n",
    "        # Return a structure of all of those indices to be plotted\n",
    "#ao_correlation_values = CalculateAOCorrelation(ao_indices, ice_indices)\n",
    "#enso_correlation_values = CalculateENSOCorrelation(enso_indices, ice_indices)\n",
    "\n",
    "# Chart Values - Each year is a line with Months A-F on X axis, correlation values on Y axis\n",
    "#ChartENSOValues(enso_correlation_values)\n",
    "#ChartAOValues(ao_correlation_values)\n"
   ]
  }
 ],
 "metadata": {
  "language_info": {
   "name": "python"
  }
 },
 "nbformat": 4,
 "nbformat_minor": 2
}
