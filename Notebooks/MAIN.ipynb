{
 "cells": [
  {
   "cell_type": "code",
   "execution_count": 29,
   "metadata": {},
   "outputs": [
    {
     "ename": "SyntaxError",
     "evalue": "(unicode error) 'unicodeescape' codec can't decode bytes in position 262-263: truncated \\UXXXXXXXX escape (download_ao_indices.py, line 60)",
     "output_type": "error",
     "traceback": [
      "Traceback \u001b[1;36m(most recent call last)\u001b[0m:\n",
      "\u001b[0m  File \u001b[0;32m~\\AppData\\Local\\Packages\\PythonSoftwareFoundation.Python.3.11_qbz5n2kfra8p0\\LocalCache\\local-packages\\Python311\\site-packages\\IPython\\core\\interactiveshell.py:3577\u001b[0m in \u001b[0;35mrun_code\u001b[0m\n    exec(code_obj, self.user_global_ns, self.user_ns)\u001b[0m\n",
      "\u001b[1;36m  Cell \u001b[1;32mIn[29], line 25\u001b[1;36m\n\u001b[1;33m    from Scripts.download_ao_indices import ReturnAOFetch\u001b[1;36m\n",
      "\u001b[1;36m  File \u001b[1;32m~\\Desktop\\PhD\\Coding\\CEE_506\\cee506_class_project\\Scripts\\download_ao_indices.py:60\u001b[1;36m\u001b[0m\n\u001b[1;33m    \"\"\"\u001b[0m\n\u001b[1;37m       ^\u001b[0m\n\u001b[1;31mSyntaxError\u001b[0m\u001b[1;31m:\u001b[0m (unicode error) 'unicodeescape' codec can't decode bytes in position 262-263: truncated \\UXXXXXXXX escape\n"
     ]
    }
   ],
   "source": [
    "import os\n",
    "import sys\n",
    "import datetime\n",
    "\n",
    "# ------------------------------------------------ #\n",
    "#                  PATH SETTINGS                   #\n",
    "# ------------------------------------------------ #\n",
    "\n",
    "# Append the path to your Scripts folder\n",
    "scripts_path = os.path.abspath(\"Test2/cee506_class_project/Scripts\")\n",
    "sys.path.append(scripts_path)\n",
    "\n",
    "# Set the base path to the data folder in your Docker environment\n",
    "base_data_path = os.path.abspath(\"Test2/cee506_class_project/Data\")\n",
    "\n",
    "# Define file paths for the data\n",
    "enso_data_filepath = os.path.join(base_data_path, \"ENSO_index.rtf\")\n",
    "ao_data_filepath = os.path.join(base_data_path, \"monthly.ao.index.txt\")\n",
    "ice_data_filepath = os.path.join(base_data_path, \"ice_data.csv\")\n",
    "\n",
    "# ------------------------------------------------ #\n",
    "#                  IMPORT FUNCTIONS                #\n",
    "# ------------------------------------------------ #\n",
    "\n",
    "from Scripts.download_ao_indices import ReturnAOFetch\n",
    "from Scripts.enso_indices import ReturnENSOFetch\n",
    "from Scripts.sea_ice_indices import CalculateIceIndex\n",
    "\n",
    "# ------------------------------------------------ #\n",
    "#                  PARAMETERS                      #\n",
    "# ------------------------------------------------ #\n",
    "\n",
    "# Generate a list of years from 2000 to 2022\n",
    "years_of_data = list(range(2000, 2023))\n",
    "\n",
    "# ------------------------------------------------ #\n",
    "#                  MAIN CODE                      #\n",
    "# ------------------------------------------------ #\n",
    "\n",
    "# Pull in ENSO data as dictionary of Datetime:Values on a MONTHLY scale from all years of data\n",
    "# Format of this dictionary should go from March of year-1 to March of year (e.g. year 2000 is dictionary M1999-M2000) for each year\n",
    "enso_indices = ReturnENSOFetch(years_of_data, enso_data_filepath)\n",
    "\n",
    "# Pull in AO data as dictionary of Datetime:Values on a MONTHLY scale from all years of data\n",
    "# Format of this dictionary should go from March of year-1 to March of year (e.g. year 2000 is dictionary M1999-M2000) for each year\n",
    "ao_indices = ReturnAOFetch(years_of_data, ao_data_filepath)\n",
    "\n",
    "# Find ice index, returned as a dictionary of Datetime:Index\n",
    "ice_indices = CalculateIceIndex(years_of_data, ice_data_filepath)\n",
    "\n",
    "# ------------------------------------------------ #\n",
    "#       CORRELATION AND PLOTTING (Placeholders)    #\n",
    "# ------------------------------------------------ #\n",
    "\n",
    "# Placeholder for correlation calculations (actual functions need to be defined)\n",
    "# ao_correlation_values = CalculateAOCorrelation(ao_indices, ice_indices)\n",
    "# enso_correlation_values = CalculateENSOCorrelation(enso_indices, ice_indices)\n",
    "\n",
    "# Placeholder for charting (actual functions need to be defined)\n",
    "# ChartENSOValues(enso_correlation_values)\n",
    "# ChartAOValues(ao_correlation_values)\n"
   ]
  },
  {
   "cell_type": "code",
   "execution_count": null,
   "metadata": {},
   "outputs": [],
   "source": []
  }
 ],
 "metadata": {
  "kernelspec": {
   "display_name": "Python 3",
   "language": "python",
   "name": "python3"
  },
  "language_info": {
   "codemirror_mode": {
    "name": "ipython",
    "version": 3
   },
   "file_extension": ".py",
   "mimetype": "text/x-python",
   "name": "python",
   "nbconvert_exporter": "python",
   "pygments_lexer": "ipython3",
   "version": "3.11.9"
  }
 },
 "nbformat": 4,
 "nbformat_minor": 2
}
