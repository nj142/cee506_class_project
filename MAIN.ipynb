{
 "cells": [
  {
   "cell_type": "code",
   "execution_count": 1,
   "metadata": {},
   "outputs": [],
   "source": [
    "# ------------------------------------------------ #\n",
    "#                  IMPORT FUNCTIONS                #\n",
    "# ------------------------------------------------ #\n",
    "\n",
    "import os\n",
    "import sys\n",
    "import datetime\n",
    "\n",
    "# Get the project root directory (going up one level from Notebooks)\n",
    "project_root = os.path.dirname(os.getcwd())\n",
    "\n",
    "# Add the Scripts directory to Python path so we can import modules\n",
    "scripts_dir = os.path.join(project_root, 'Scripts')\n",
    "if scripts_dir not in sys.path:\n",
    "    sys.path.append(scripts_dir)"
   ]
  },
  {
   "cell_type": "code",
   "execution_count": 2,
   "metadata": {},
   "outputs": [],
   "source": [
    "# ------------------------------------------------ #\n",
    "#                  PARAMETERS                      #\n",
    "# ------------------------------------------------ #\n",
    "    \n",
    "# Add functions here from Scripts folder\n",
    "from download_ao_indices import ReturnAOFetch\n",
    "from enso_indices import ReturnENSOFetch\n",
    "from sea_ice_indices import CalculateIceIndex\n",
    "\n",
    "# Add data here from Data folder\n",
    "enso_data_filepath = os.path.join(project_root, \"Data\", \"ENSO_index.rtf\")\n",
    "ao_data_filepath = os.path.join(project_root, \"Data\", \"monthly.ao.index.txt\")\n",
    "ice_data_filepath = os.path.join(project_root, \"Data\", \"ice_data.csv\")\n",
    "study_sites = [\"Stebbins\", \"Hooper Bay\"]\n",
    "\n",
    "# Generate a list of years from 2000 to 2022 - select years\n",
    "years_of_data = list(range(2000, 2023))"
   ]
  },
  {
   "cell_type": "code",
   "execution_count": 7,
   "metadata": {},
   "outputs": [
    {
     "name": "stdout",
     "output_type": "stream",
     "text": [
      "{'Stebbins': {'SLIE_anomaly': {'index': -0.3713919937694287, 'actual_km_anomaly': -2.4020745070233502}, 'breakup_anomaly': {'index': 0.5844444444444444, 'actual_days_anomaly': 13.543478260869565}}}\n"
     ]
    }
   ],
   "source": [
    "# ------------------------------------------------ #\n",
    "#                  MAIN CODE                      #\n",
    "# ------------------------------------------------ #\n",
    "\n",
    "# Pull in ENSO data as dictionary of Datetime:Values on a MONTHLY scale from all years of data\n",
    "# Format of this dictionary should go from March of year-1 to March of year (e.g. year 2000 is dictionary M1999-M2000) for each year\n",
    "enso_indices = ReturnENSOFetch(years_of_data, enso_data_filepath)\n",
    "\n",
    "# Pull in AO data as dictionary of Datetime:Values on a MONTHLY scale from all years of data\n",
    "# Format of this dictionary should go from March of year-1 to March of year (e.g. year 2000 is dictionary M1999-M2000) for each year\n",
    "ao_indices = ReturnAOFetch(years_of_data, ao_data_filepath)\n",
    "\n",
    "# Find ice index, returned as a dictionary of Datetime:Index\n",
    "ice_indices = CalculateIceIndex(years_of_data, ice_data_filepath, study_sites)\n",
    "\n",
    "print({\"Stebbins\": ice_indices[\"Stebbins\"][datetime.datetime(2000,3,1)]})\n"
   ]
  },
  {
   "cell_type": "code",
   "execution_count": 11,
   "metadata": {},
   "outputs": [],
   "source": [
    "# ------------------------------------------------ #\n",
    "#       CORRELATION AND PLOTTING (Placeholders)    #\n",
    "# ------------------------------------------------ #\n",
    "\n",
    "# Placeholder for correlation calculations (actual functions need to be defined)\n",
    "# ao_correlation_values = CalculateAOCorrelation(ao_indices, ice_indices)\n",
    "# enso_correlation_values = CalculateENSOCorrelation(enso_indices, ice_indices)\n",
    "\n",
    "# Placeholder for charting (actual functions need to be defined)\n",
    "# ChartENSOValues(enso_correlation_values)\n",
    "# ChartAOValues(ao_correlation_values)\n"
   ]
  },
  {
   "cell_type": "code",
   "execution_count": null,
   "metadata": {},
   "outputs": [],
   "source": []
  }
 ],
 "metadata": {
  "kernelspec": {
   "display_name": "Python 3",
   "language": "python",
   "name": "python3"
  },
  "language_info": {
   "codemirror_mode": {
    "name": "ipython",
    "version": 3
   },
   "file_extension": ".py",
   "mimetype": "text/x-python",
   "name": "python",
   "nbconvert_exporter": "python",
   "pygments_lexer": "ipython3",
   "version": "3.7.3"
  }
 },
 "nbformat": 4,
 "nbformat_minor": 2
}
