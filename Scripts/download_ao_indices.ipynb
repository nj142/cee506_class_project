{
 "cells": [
  {
   "cell_type": "code",
   "execution_count": 5,
   "metadata": {},
   "outputs": [],
   "source": [
    "import numpy as np\n",
    "import matplotlib.pyplot as plt\n",
    "import datetime as dt\n",
    "from datetime import datetime, date\n",
    "import pandas as pd\n",
    "import matplotlib.dates as mdates\n"
   ]
  },
  {
   "cell_type": "code",
   "execution_count": 10,
   "metadata": {},
   "outputs": [
    {
     "ename": "SyntaxError",
     "evalue": "(unicode error) 'unicodeescape' codec can't decode bytes in position 263-264: truncated \\UXXXXXXXX escape (973362875.py, line 47)",
     "output_type": "error",
     "traceback": [
      "\u001b[1;36m  Cell \u001b[1;32mIn[10], line 47\u001b[1;36m\u001b[0m\n\u001b[1;33m    \"\"\"\"\u001b[0m\n\u001b[1;37m    ^\u001b[0m\n\u001b[1;31mSyntaxError\u001b[0m\u001b[1;31m:\u001b[0m (unicode error) 'unicodeescape' codec can't decode bytes in position 263-264: truncated \\UXXXXXXXX escape\n"
     ]
    }
   ],
   "source": [
    "import os\n",
    "#df_ao = pd.read_csv(r\"monthly.ao.txt\", sep=\"\\s+\") \n",
    "\n",
    "def ReturnAOFetch(years_of_data):\n",
    "    \"\"\"\n",
    "    Function that returns AO indices as a dictionary on monthly scale from March of start_year-1 to March end_year\n",
    "    \"\"\"\n",
    "    # read text file into pandas DataFrame\n",
    "    # data retrieved from: https://www.ncei.noaa.gov/access/monitoring/ao/   \n",
    "    data_file = os.path.join('..', 'Data', 'monthly.ao.index.txt')\n",
    "    ao_dict = {}\n",
    "\n",
    "    with open(data_file, 'r') as f:\n",
    "        data_lines = f.readlines()\n",
    "\n",
    "    ao_data = {}\n",
    "    for line in data_lines[1:]: # skipping header\n",
    "        #yyyy/mm/dd\n",
    "        parts = line.strip().split()\n",
    "        year = int(parts[0])\n",
    "        ao_values = list(map(float, parts[1:]))\n",
    "\n",
    "        # map each month in current year to AO value\n",
    "        for month, ao_value in enumerate(ao_values, start=1):\n",
    "            date = datetime(year, month, 1)\n",
    "            ao_data[date] = ao_value\n",
    "            #print(f\"Added {date} : {ao_value} to ao_data\")\n",
    "\n",
    "\n",
    "    for year in years_of_data:\n",
    "        start_date = datetime(year-1, 3, 1) \n",
    "        end_date = datetime(year, 3, 1)\n",
    "        #print(f\"\\nExtracting data for year {year} from {start_date} to {end_date}\")\n",
    "        ao_indices = [ao_data[date] for date in ao_data if start_date <= date <= end_date]\n",
    "        #print(f\"Extracted AO indices for {year}: {ao_indices}\")  \n",
    "\n",
    "        # store in dictionary\n",
    "        ao_dict[year] = ao_indices\n",
    "\n",
    "    return ao_dict\n",
    "\n",
    "\"\"\"\"\n",
    "This code can be executed to test the function locally. The only changes that needs to be made to the main code:\n",
    "- Add file_path as an input to the function\n",
    "- Comment out data_file \n",
    "- Change filepath below to your own\n",
    "\n",
    "# test locally on desktop\n",
    "file_path = r\"C:\\Users\\Valerie Tsao\\Documents\\PhD\\CEE506 - ESDA\\monthly.ao.index.txt\"   # needs to be changed \n",
    "years=[2000, 2001, 2005]\n",
    "ao_data_dict = ReturnAOFetch(file_path, years)\n",
    "print(ao_data_dict)\n",
    "\"\"\""
   ]
  }
 ],
 "metadata": {
  "kernelspec": {
   "display_name": "Python 3",
   "language": "python",
   "name": "python3"
  },
  "language_info": {
   "codemirror_mode": {
    "name": "ipython",
    "version": 3
   },
   "file_extension": ".py",
   "mimetype": "text/x-python",
   "name": "python",
   "nbconvert_exporter": "python",
   "pygments_lexer": "ipython3",
   "version": "3.12.5"
  }
 },
 "nbformat": 4,
 "nbformat_minor": 2
}
