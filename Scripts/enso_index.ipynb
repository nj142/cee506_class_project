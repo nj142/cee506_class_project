{
 "cells": [
  {
   "cell_type": "code",
   "execution_count": null,
   "metadata": {},
   "outputs": [],
   "source": [
    "import pandas as pd\n",
    "import matplotlib.pyplot as plt\n",
    "import re\n",
    "from datetime import datetime\n",
    "\n",
    "rtf_file_path = '/home/jovyan/work/ESDA_project/ENSO_index.rtf'\n",
    "\n",
    "#Open the file\n",
    "with open(rtf_file_path, 'r', encoding='utf-8') as rtf_file:\n",
    "    rtf_content = rtf_file.read()\n",
    "\n",
    "#(\\d+): A sequence of digits\n",
    "#\\s+: One or more white space\n",
    "#[-+]?: + or - in the beginning\n",
    "#\\d*\\.\\d+: Floating point numbers\n",
    "#\\d+: Integer numbers\n",
    "#data = re.findall(r'(\\d+)\\s+([-+]?\\d*\\.\\d+|\\d+)(?:\\s+([-+]?\\d*\\.\\d+|\\d+))*', rtf_content)\n",
    "data = re.findall(r'(\\d+)\\s+((?:[-+]?\\d*\\.\\d+|\\d+)(?:\\s+[-+]?\\d*\\.\\d+|\\s+\\d+)*)', rtf_content)\n",
    "data_processed = [(year, list(map(float, months.split()))) for year, months in data]\n",
    "\n",
    "#print(data_processed)\n",
    "\n",
    "#Make a dictionary\n",
    "data_dict = {}\n",
    "\n",
    "for year, monthly_data in data_processed:\n",
    "    for month, value in enumerate(monthly_data, start=1):\n",
    "        data_dict[(int(year), month)] = value\n",
    "#print(data_dict)\n",
    "\n",
    "print(data_dict[(2000, 2)])\n",
    "\n",
    "#Extract data\n",
    "def ReturnENSOFetch(years_of_data):\n",
    "    ENSO_index = []\n",
    "    for year in years_of_data:\n",
    "        #print(year)\n",
    "        ENSO_index_year = []\n",
    "        for y, m in [(year - 1, month) for month in range(3, 13)] + [(year, month) for month in range(1, 4)]:\n",
    "            value = data_dict.get((y, m))\n",
    "            if value is not None:\n",
    "                ENSO_index_year.append(value)\n",
    "        #print(ENSO_index)\n",
    "        ENSO_index.append(ENSO_index_year)\n",
    "    return ENSO_index"
   ]
  }
 ],
 "metadata": {
  "kernelspec": {
   "display_name": "Python 3",
   "language": "python",
   "name": "python3"
  },
  "language_info": {
   "codemirror_mode": {
    "name": "ipython",
    "version": 3
   },
   "file_extension": ".py",
   "mimetype": "text/x-python",
   "name": "python",
   "nbconvert_exporter": "python",
   "pygments_lexer": "ipython3",
   "version": "3.7.3"
  }
 },
 "nbformat": 4,
 "nbformat_minor": 2
}
